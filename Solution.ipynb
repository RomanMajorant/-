{
 "cells": [
  {
   "cell_type": "code",
   "execution_count": 5,
   "id": "5620f1f2-07f5-40da-b70a-84c9eeb0d105",
   "metadata": {
    "jupyter": {
     "source_hidden": true
    },
    "tags": []
   },
   "outputs": [],
   "source": [
    "import warnings\n",
    "warnings.filterwarnings(\"ignore\")\n",
    "\n",
    "import pandas as pd\n",
    "import sklearn\n",
    "import numpy as np\n",
    "import matplotlib.pyplot as plt\n",
    "import lifetimes \n",
    "#import tune_sklearn\n",
    "#import hyperopt\n",
    "\n",
    "\n",
    "from sklearn.model_selection import train_test_split, GridSearchCV, cross_val_score, cross_validate\n",
    "from sklearn.decomposition import TruncatedSVD\n",
    "from sklearn.preprocessing import StandardScaler, MinMaxScaler\n",
    "from sklearn.pipeline import Pipeline, make_pipeline\n",
    "from pipelinehelper import PipelineHelper\n",
    "from sklearn.ensemble import RandomForestClassifier, VotingClassifier, AdaBoostClassifier, BaggingClassifier, ExtraTreesClassifier, GradientBoostingClassifier, StackingClassifier, HistGradientBoostingClassifier\n",
    "from sklearn.naive_bayes import GaussianNB, BernoulliNB, ComplementNB, CategoricalNB, MultinomialNB\n",
    "from sklearn.linear_model import LogisticRegression\n",
    "from sklearn.metrics import recall_score, f1_score, accuracy_score, precision_score, confusion_matrix, precision_recall_curve, roc_auc_score, roc_curve\n",
    "from tune_sklearn import TuneSearchCV\n",
    "from ray import tune\n",
    "#from hyperopt import hp\n",
    "from collections import Counter\n",
    "from imblearn.under_sampling import NearMiss, RandomUnderSampler, AllKNN, ClusterCentroids, CondensedNearestNeighbour, EditedNearestNeighbours, InstanceHardnessThreshold, NeighbourhoodCleaningRule, OneSidedSelection, RepeatedEditedNearestNeighbours, TomekLinks\n",
    "from imblearn.over_sampling import SMOTE, ADASYN, RandomOverSampler, SVMSMOTE, SMOTEN, SMOTENC, BorderlineSMOTE, KMeansSMOTE\n",
    "from sklearn.svm import SVC, LinearSVC, OneClassSVM\n",
    "from imblearn.ensemble import BalancedRandomForestClassifier, BalancedBaggingClassifier, EasyEnsembleClassifier, RUSBoostClassifier\n",
    "\n",
    "import os\n",
    "\n",
    "import tqdm\n",
    "from tqdm import tqdm\n",
    "from sklearn.metrics import make_scorer"
   ]
  },
  {
   "cell_type": "code",
   "execution_count": 6,
   "id": "119afc9a-0eaa-4719-baa0-e5bed1c7cecb",
   "metadata": {},
   "outputs": [],
   "source": [
    "train_old_data = pd.read_csv(r\"C:\\Users\\Roma\\Hack #1\\Processed data\\df_train_anyclass.csv\", index_col=[0])\n",
    "test_old_data = pd.read_csv(r\"C:\\Users\\Roma\\Hack #1\\Processed data\\df_test_anyclass.csv\", index_col=[0])"
   ]
  },
  {
   "cell_type": "code",
   "execution_count": 7,
   "id": "7eb67741-77df-42be-9842-e9771ff6bf14",
   "metadata": {},
   "outputs": [],
   "source": [
    "scaler_old_data = StandardScaler()\n",
    "\n",
    "scal_train_old = scaler_old_data.fit_transform(train_old_data.drop('blocked', axis=1))\n",
    "scal_test_old = scaler_old_data.transform(test_old_data)\n",
    "\n",
    "scal_train_old = pd.DataFrame(scal_train_old, columns=train_old_data.drop('blocked', axis=1).columns)\n",
    "scal_train_old.set_index(train_old_data.index, inplace=True)\n",
    "scal_train_old['blocked'] = train_old_data['blocked']\n",
    "\n",
    "scal_test_old = pd.DataFrame(scal_test_old, columns=test_old_data.columns)\n",
    "scal_test_old.set_index(test_old_data.index, inplace=True)"
   ]
  },
  {
   "cell_type": "code",
   "execution_count": 11,
   "id": "45dc1025-34ec-4658-a943-e608f240e5d6",
   "metadata": {},
   "outputs": [],
   "source": [
    "bernouli_main_test = pd.read_csv(r\"C:\\Users\\Roma\\Desktop\\TextDateSVMSMOTE_BernoulliNB (1).csv\", index_col=[0])"
   ]
  },
  {
   "cell_type": "code",
   "execution_count": 19,
   "id": "b5e7032e-3e37-4eda-8523-01c02900f64c",
   "metadata": {},
   "outputs": [],
   "source": [
    "X_old = scal_train_old.drop('blocked', axis = 1)\n",
    "Y_old = scal_train_old['blocked']"
   ]
  },
  {
   "cell_type": "code",
   "execution_count": 24,
   "id": "07066f30-7c1e-406f-bd2e-c8d3f60a4c5f",
   "metadata": {},
   "outputs": [
    {
     "name": "stdout",
     "output_type": "stream",
     "text": [
      "0.8132757690232055\n",
      "0.9605978426102714\n"
     ]
    }
   ],
   "source": [
    "nm = SVMSMOTE(sampling_strategy='auto', k_neighbors=14, m_neighbors=10, out_step=1)\n",
    "X_res_old, y_res_old = nm.fit_resample(X_old, Y_old)\n",
    "X_train_res_old, X_test_res_old, y_train_res_old, y_test_res_old = train_test_split(X_res_old, y_res_old, test_size=0.35, stratify=y_res_old)\n",
    "\n",
    "\n",
    "gnb_clf = BernoulliNB(binarize=4.1)\n",
    "gnb_clf.fit(X_train_res_old, y_train_res_old)\n",
    "\n",
    "print(recall_score(y_test_res_old, gnb_clf.predict(X_test_res_old), average='macro'))\n",
    "print(f1_score(bernouli_main_test['blocked'], gnb_clf.predict(scal_test_old), average='macro'))"
   ]
  },
  {
   "cell_type": "code",
   "execution_count": null,
   "id": "8690d610-b2d3-4af0-90ae-c30f2063c031",
   "metadata": {},
   "outputs": [],
   "source": [
    "gnb_clf.fit(X_res_old, y_res_old)\n",
    "print(f1_score(bernouli_main_test['blocked'], gnb_clf.predict(scal_test_old), average='macro'))"
   ]
  },
  {
   "cell_type": "code",
   "execution_count": null,
   "id": "bac4f6e7-4221-408c-9b04-260e3a2e4430",
   "metadata": {},
   "outputs": [],
   "source": []
  },
  {
   "cell_type": "code",
   "execution_count": null,
   "id": "b2cde783-da72-411e-ad91-81fcbf84ed41",
   "metadata": {},
   "outputs": [],
   "source": [
    "pred_gnb = gnb_clf.predict(scal_test_old)\n",
    "pred_gnb = pd.DataFrame(pred_gnb)\n",
    "\n",
    "pred_gnb['contract_id'] = scal_test_old.index\n",
    "pred_gnb = pred_gnb.reindex(columns = ['contract_id', 0])\n",
    "pred_gnb.rename(columns={0:'blocked'}, inplace=True)"
   ]
  },
  {
   "cell_type": "code",
   "execution_count": null,
   "id": "0c96ff96-4702-47c4-8a3a-05777bb93f46",
   "metadata": {},
   "outputs": [],
   "source": [
    "pred_gnb['blocked'].value_counts()"
   ]
  },
  {
   "cell_type": "code",
   "execution_count": null,
   "id": "9b5b0f87-f1ba-4bb1-b998-00e01546e49d",
   "metadata": {},
   "outputs": [],
   "source": [
    "print(f1_score(bernouli_main_test['blocked'], gnb_clf.predict(scal_test_old), average='macro'))"
   ]
  },
  {
   "cell_type": "code",
   "execution_count": null,
   "id": "1c16d666-fa2d-4c3a-a2f5-0a81b3710587",
   "metadata": {},
   "outputs": [],
   "source": [
    "pred_gnb.to_csv(r'C:\\Users\\Roma\\Hack #1\\Processed data\\TextDateSVMSMOTE_BernoulliNB(alpha=1, binarize = 4.1,  fit_prior = True)_old_simpleimputer_X_res_old_y_res_old.csv', columns=['contract_id', 'blocked'], index= False)\n",
    "#Result: 79+"
   ]
  }
 ],
 "metadata": {
  "kernelspec": {
   "display_name": "Python 3 (ipykernel)",
   "language": "python",
   "name": "python3"
  },
  "language_info": {
   "codemirror_mode": {
    "name": "ipython",
    "version": 3
   },
   "file_extension": ".py",
   "mimetype": "text/x-python",
   "name": "python",
   "nbconvert_exporter": "python",
   "pygments_lexer": "ipython3",
   "version": "3.9.12"
  }
 },
 "nbformat": 4,
 "nbformat_minor": 5
}
